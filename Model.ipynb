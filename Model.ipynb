{
 "cells": [
  {
   "cell_type": "code",
   "execution_count": 1,
   "id": "7127d69a",
   "metadata": {},
   "outputs": [],
   "source": [
    "import pandas as pd\n",
    "import numpy as np\n",
    "import matplotlib.pyplot as plt\n",
    "from sklearn.model_selection import train_test_split\n",
    "from sklearn.preprocessing import StandardScaler\n",
    "from sklearn.impute import SimpleImputer\n",
    "from sklearn.compose import ColumnTransformer\n",
    "from sklearn.pipeline import Pipeline, make_pipeline\n",
    "\n",
    "from sklearn.ensemble import RandomForestRegressor, AdaBoostRegressor\n",
    "from sklearn.tree import DecisionTreeRegressor\n",
    "from sklearn.linear_model import LinearRegression\n",
    "from sklearn.svm import SVR\n",
    "from xgboost import XGBRegressor\n",
    "\n",
    "from sklearn.metrics import mean_absolute_percentage_error,r2_score\n",
    "from sklearn.model_selection import GridSearchCV, RandomizedSearchCV\n",
    "from sklearn.inspection import PartialDependenceDisplay\n",
    "import category_encoders as ce\n",
    "import scikitplot as skplt\n",
    "\n",
    "import copy\n",
    "import time\n",
    "import os\n",
    "import threading\n",
    "from pathlib import Path\n",
    "from joblib import dump, load\n",
    "import re"
   ]
  },
  {
   "cell_type": "code",
   "execution_count": 2,
   "id": "44ecbe06",
   "metadata": {},
   "outputs": [],
   "source": [
    "target = 'price'\n",
    "categorical_columns = ['city','layout_type','property_type','furnish_type','locality','seller_type']\n",
    "continuous_columns = ['bedroom','area','bathroom']"
   ]
  },
  {
   "cell_type": "code",
   "execution_count": 3,
   "id": "96feba54",
   "metadata": {},
   "outputs": [],
   "source": [
    "data = pd.read_csv('./data/data.csv')"
   ]
  },
  {
   "cell_type": "code",
   "execution_count": 4,
   "id": "ad77de78",
   "metadata": {},
   "outputs": [],
   "source": [
    "numeric_transformer = Pipeline(steps=[\n",
    "    ('imputer', SimpleImputer(strategy='median')),\n",
    "    ('scaler', StandardScaler())])\n",
    "\n",
    "categorical_transformer_target = Pipeline(steps=[\n",
    "    ('encoder', ce.CatBoostEncoder())])"
   ]
  },
  {
   "cell_type": "code",
   "execution_count": 5,
   "id": "2fc5424f",
   "metadata": {},
   "outputs": [],
   "source": [
    "preprocessor = ColumnTransformer(\n",
    "    transformers=[\n",
    "        ('num', numeric_transformer, continuous_columns),\n",
    "        ('cat', categorical_transformer_target, categorical_columns)])"
   ]
  },
  {
   "cell_type": "code",
   "execution_count": 10,
   "id": "219b0750",
   "metadata": {},
   "outputs": [],
   "source": [
    "regressors = [LinearRegression(n_jobs=-1),\n",
    "              DecisionTreeRegressor(),\n",
    "              RandomForestRegressor(n_jobs=-1),\n",
    "              AdaBoostRegressor(),\n",
    "              #SVR(),\n",
    "              XGBRegressor(n_jobs=-1)]"
   ]
  },
  {
   "cell_type": "code",
   "execution_count": 11,
   "id": "698bda10",
   "metadata": {},
   "outputs": [],
   "source": [
    "pipelines = []\n",
    "        \n",
    "for regressor in regressors:\n",
    "    pipelines.append(make_pipeline(preprocessor,regressor,memory='./cache'))"
   ]
  },
  {
   "cell_type": "code",
   "execution_count": 12,
   "id": "97378309",
   "metadata": {},
   "outputs": [],
   "source": [
    "def fit_pipeline(pipe,xtrain,xtest,ytrain,ytest,overwrite_saved_models=False):\n",
    "    model_folder = './saved_models/'\n",
    "    file_name = re.sub('[^a-zA-Z0-9 \\n\\.]', '', list(pipe.named_steps.keys())[-1])\n",
    "    print(file_name)\n",
    "    if not os.path.exists(model_folder):\n",
    "        os.makedirs(model_folder)\n",
    "    if not Path(model_folder+file_name+'.joblib').is_file() or overwrite_saved_models:\n",
    "        start_time = time.time()\n",
    "        logs = 'Model '+file_name+'\\n'\n",
    "        print('Training started')\n",
    "        pipe.fit(xtrain, ytrain)\n",
    "        predictions = pipe.predict(xtest)\n",
    "        execution_time = (time.time() - start_time)\n",
    "        logs = logs + f'train duration {execution_time} \\n'\n",
    "        r2 = r2_score(ytest, predictions)\n",
    "        logs = logs + f'r2:  {r2}\\n '\n",
    "        print(logs)\n",
    "        with open('./logs'+file_name+'.txt', 'w') as f:\n",
    "            f.write(logs)\n",
    "        dump(pipe, model_folder+file_name+'.joblib')\n",
    "    print('Model trained')"
   ]
  },
  {
   "cell_type": "code",
   "execution_count": 13,
   "id": "bda0e23c",
   "metadata": {},
   "outputs": [],
   "source": [
    "X = data.drop(target,axis=1)\n",
    "y = data[target]"
   ]
  },
  {
   "cell_type": "code",
   "execution_count": 14,
   "id": "17ea35f9",
   "metadata": {},
   "outputs": [],
   "source": [
    "X_train, X_test, y_train, y_test = train_test_split(X, y, test_size=0.2, random_state=123)"
   ]
  },
  {
   "cell_type": "code",
   "execution_count": 15,
   "id": "8d3e00b5",
   "metadata": {},
   "outputs": [
    {
     "name": "stdout",
     "output_type": "stream",
     "text": [
      "linearregression\n",
      "Training started\n",
      "Model linearregression\n",
      "train duration 2.690599203109741 \n",
      "r2:  0.4067735668570026\n",
      " \n",
      "Model trained\n",
      "decisiontreeregressor\n",
      "Training started\n",
      "Model decisiontreeregressor\n",
      "train duration 4.651044130325317 \n",
      "r2:  0.3429276193333586\n",
      " \n",
      "Model trained\n",
      "randomforestregressor\n",
      "Training started\n",
      "Model randomforestregressor\n",
      "train duration 13.120703220367432 \n",
      "r2:  0.6560176154570969\n",
      " \n",
      "Model trained\n",
      "adaboostregressor\n",
      "Training started\n",
      "Model adaboostregressor\n",
      "train duration 9.27309250831604 \n",
      "r2:  0.3267355158087105\n",
      " \n",
      "Model trained\n",
      "xgbregressor\n",
      "Training started\n",
      "Model xgbregressor\n",
      "train duration 7.150604248046875 \n",
      "r2:  0.6079513596594885\n",
      " \n",
      "Model trained\n"
     ]
    }
   ],
   "source": [
    "for pipe in pipelines:\n",
    "    fit_pipeline(pipe,X_train, X_test, y_train, y_test,True)"
   ]
  },
  {
   "cell_type": "code",
   "execution_count": null,
   "id": "fcbdf36b",
   "metadata": {},
   "outputs": [],
   "source": []
  }
 ],
 "metadata": {
  "kernelspec": {
   "display_name": "machine_learning_base",
   "language": "python",
   "name": "machine_learning_base"
  },
  "language_info": {
   "codemirror_mode": {
    "name": "ipython",
    "version": 3
   },
   "file_extension": ".py",
   "mimetype": "text/x-python",
   "name": "python",
   "nbconvert_exporter": "python",
   "pygments_lexer": "ipython3",
   "version": "3.7.11"
  }
 },
 "nbformat": 4,
 "nbformat_minor": 5
}
