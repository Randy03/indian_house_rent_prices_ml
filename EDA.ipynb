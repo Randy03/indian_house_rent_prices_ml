{
 "cells": [
  {
   "cell_type": "code",
   "execution_count": 111,
   "id": "866a0157",
   "metadata": {},
   "outputs": [],
   "source": [
    "import pandas as pd\n",
    "from scipy.stats import chi2_contingency\n",
    "from sklearn.preprocessing import OneHotEncoder\n",
    "from sklearn.impute import SimpleImputer\n",
    "import seaborn as sns\n",
    "import matplotlib.pyplot as plt\n",
    "import category_encoders as ce\n",
    "import numpy as np\n",
    "from sklearn.decomposition import PCA\n",
    "from sklearn.preprocessing import StandardScaler\n",
    "from sklearn.feature_selection import SelectFromModel\n",
    "from sklearn.model_selection import train_test_split\n",
    "from sklearn.linear_model import LinearRegression,Ridge\n",
    "from sklearn.utils import resample\n",
    "from sklearn import metrics\n",
    "import itertools"
   ]
  },
  {
   "cell_type": "code",
   "execution_count": 127,
   "id": "b0b4a4b8",
   "metadata": {},
   "outputs": [],
   "source": [
    "cities = ['Ahmedabad','Bangalore','Chennai','Delhi','Hyderabad','Kolkata','Mumbai','Pune']\n",
    "\n",
    "for index,city in enumerate(cities):\n",
    "    path = f'./data/{city}_rent.csv'\n",
    "    if index == 0:\n",
    "        data = pd.read_csv(path)\n",
    "        data['city'] = list(itertools.repeat(city,len(data)))\n",
    "    else:\n",
    "        df = pd.read_csv(path)\n",
    "        df['city'] = list(itertools.repeat(city,len(df)))\n",
    "        data = pd.concat([data,df])\n"
   ]
  },
  {
   "cell_type": "code",
   "execution_count": 128,
   "id": "881f79c8",
   "metadata": {},
   "outputs": [
    {
     "data": {
      "text/html": [
       "<div>\n",
       "<style scoped>\n",
       "    .dataframe tbody tr th:only-of-type {\n",
       "        vertical-align: middle;\n",
       "    }\n",
       "\n",
       "    .dataframe tbody tr th {\n",
       "        vertical-align: top;\n",
       "    }\n",
       "\n",
       "    .dataframe thead th {\n",
       "        text-align: right;\n",
       "    }\n",
       "</style>\n",
       "<table border=\"1\" class=\"dataframe\">\n",
       "  <thead>\n",
       "    <tr style=\"text-align: right;\">\n",
       "      <th></th>\n",
       "      <th>seller_type</th>\n",
       "      <th>bedroom</th>\n",
       "      <th>layout_type</th>\n",
       "      <th>property_type</th>\n",
       "      <th>locality</th>\n",
       "      <th>price</th>\n",
       "      <th>area</th>\n",
       "      <th>furnish_type</th>\n",
       "      <th>bathroom</th>\n",
       "      <th>city</th>\n",
       "    </tr>\n",
       "  </thead>\n",
       "  <tbody>\n",
       "    <tr>\n",
       "      <th>0</th>\n",
       "      <td>OWNER</td>\n",
       "      <td>2.0</td>\n",
       "      <td>BHK</td>\n",
       "      <td>Apartment</td>\n",
       "      <td>Bodakdev</td>\n",
       "      <td>20,000</td>\n",
       "      <td>1450.0</td>\n",
       "      <td>Furnished</td>\n",
       "      <td>2 bathrooms</td>\n",
       "      <td>Ahmedabad</td>\n",
       "    </tr>\n",
       "    <tr>\n",
       "      <th>1</th>\n",
       "      <td>OWNER</td>\n",
       "      <td>1.0</td>\n",
       "      <td>RK</td>\n",
       "      <td>Studio Apartment</td>\n",
       "      <td>CG Road</td>\n",
       "      <td>7,350</td>\n",
       "      <td>210.0</td>\n",
       "      <td>Semi-Furnished</td>\n",
       "      <td>1 bathrooms</td>\n",
       "      <td>Ahmedabad</td>\n",
       "    </tr>\n",
       "    <tr>\n",
       "      <th>2</th>\n",
       "      <td>OWNER</td>\n",
       "      <td>3.0</td>\n",
       "      <td>BHK</td>\n",
       "      <td>Apartment</td>\n",
       "      <td>Jodhpur</td>\n",
       "      <td>22,000</td>\n",
       "      <td>1900.0</td>\n",
       "      <td>Unfurnished</td>\n",
       "      <td>3 bathrooms</td>\n",
       "      <td>Ahmedabad</td>\n",
       "    </tr>\n",
       "    <tr>\n",
       "      <th>3</th>\n",
       "      <td>OWNER</td>\n",
       "      <td>2.0</td>\n",
       "      <td>BHK</td>\n",
       "      <td>Independent House</td>\n",
       "      <td>Sanand</td>\n",
       "      <td>13,000</td>\n",
       "      <td>1285.0</td>\n",
       "      <td>Semi-Furnished</td>\n",
       "      <td>2 bathrooms</td>\n",
       "      <td>Ahmedabad</td>\n",
       "    </tr>\n",
       "    <tr>\n",
       "      <th>4</th>\n",
       "      <td>OWNER</td>\n",
       "      <td>2.0</td>\n",
       "      <td>BHK</td>\n",
       "      <td>Independent House</td>\n",
       "      <td>Navrangpura</td>\n",
       "      <td>18,000</td>\n",
       "      <td>1600.0</td>\n",
       "      <td>Furnished</td>\n",
       "      <td>2 bathrooms</td>\n",
       "      <td>Ahmedabad</td>\n",
       "    </tr>\n",
       "    <tr>\n",
       "      <th>...</th>\n",
       "      <td>...</td>\n",
       "      <td>...</td>\n",
       "      <td>...</td>\n",
       "      <td>...</td>\n",
       "      <td>...</td>\n",
       "      <td>...</td>\n",
       "      <td>...</td>\n",
       "      <td>...</td>\n",
       "      <td>...</td>\n",
       "      <td>...</td>\n",
       "    </tr>\n",
       "    <tr>\n",
       "      <th>196833</th>\n",
       "      <td>OWNER</td>\n",
       "      <td>1.0</td>\n",
       "      <td>BHK</td>\n",
       "      <td>Apartment</td>\n",
       "      <td>Chinchwad</td>\n",
       "      <td>13,250</td>\n",
       "      <td>650.0</td>\n",
       "      <td>Semi-Furnished</td>\n",
       "      <td>1 bathrooms</td>\n",
       "      <td>Pune</td>\n",
       "    </tr>\n",
       "    <tr>\n",
       "      <th>196834</th>\n",
       "      <td>OWNER</td>\n",
       "      <td>1.0</td>\n",
       "      <td>RK</td>\n",
       "      <td>Studio Apartment</td>\n",
       "      <td>Wadgaon Sheri</td>\n",
       "      <td>7,000</td>\n",
       "      <td>350.0</td>\n",
       "      <td>Unfurnished</td>\n",
       "      <td>1 bathrooms</td>\n",
       "      <td>Pune</td>\n",
       "    </tr>\n",
       "    <tr>\n",
       "      <th>196835</th>\n",
       "      <td>OWNER</td>\n",
       "      <td>1.0</td>\n",
       "      <td>BHK</td>\n",
       "      <td>Apartment</td>\n",
       "      <td>Kothrud</td>\n",
       "      <td>8,500</td>\n",
       "      <td>389.0</td>\n",
       "      <td>Semi-Furnished</td>\n",
       "      <td>1 bathrooms</td>\n",
       "      <td>Pune</td>\n",
       "    </tr>\n",
       "    <tr>\n",
       "      <th>196836</th>\n",
       "      <td>AGENT</td>\n",
       "      <td>1.0</td>\n",
       "      <td>BHK</td>\n",
       "      <td>Apartment</td>\n",
       "      <td>Wakad</td>\n",
       "      <td>16,500</td>\n",
       "      <td>670.0</td>\n",
       "      <td>Semi-Furnished</td>\n",
       "      <td>2 bathrooms</td>\n",
       "      <td>Pune</td>\n",
       "    </tr>\n",
       "    <tr>\n",
       "      <th>196837</th>\n",
       "      <td>AGENT</td>\n",
       "      <td>2.0</td>\n",
       "      <td>BHK</td>\n",
       "      <td>Apartment</td>\n",
       "      <td>Alandi</td>\n",
       "      <td>12,000</td>\n",
       "      <td>800.0</td>\n",
       "      <td>Unfurnished</td>\n",
       "      <td>2 bathrooms</td>\n",
       "      <td>Pune</td>\n",
       "    </tr>\n",
       "  </tbody>\n",
       "</table>\n",
       "<p>196838 rows × 10 columns</p>\n",
       "</div>"
      ],
      "text/plain": [
       "       seller_type  bedroom layout_type      property_type       locality  \\\n",
       "0            OWNER      2.0         BHK          Apartment       Bodakdev   \n",
       "1            OWNER      1.0          RK   Studio Apartment        CG Road   \n",
       "2            OWNER      3.0         BHK          Apartment        Jodhpur   \n",
       "3            OWNER      2.0         BHK  Independent House         Sanand   \n",
       "4            OWNER      2.0         BHK  Independent House    Navrangpura   \n",
       "...            ...      ...         ...                ...            ...   \n",
       "196833       OWNER      1.0         BHK          Apartment      Chinchwad   \n",
       "196834       OWNER      1.0          RK   Studio Apartment  Wadgaon Sheri   \n",
       "196835       OWNER      1.0         BHK          Apartment        Kothrud   \n",
       "196836       AGENT      1.0         BHK          Apartment          Wakad   \n",
       "196837       AGENT      2.0         BHK          Apartment         Alandi   \n",
       "\n",
       "         price    area    furnish_type     bathroom       city  \n",
       "0       20,000  1450.0       Furnished  2 bathrooms  Ahmedabad  \n",
       "1        7,350   210.0  Semi-Furnished  1 bathrooms  Ahmedabad  \n",
       "2       22,000  1900.0     Unfurnished  3 bathrooms  Ahmedabad  \n",
       "3       13,000  1285.0  Semi-Furnished  2 bathrooms  Ahmedabad  \n",
       "4       18,000  1600.0       Furnished  2 bathrooms  Ahmedabad  \n",
       "...        ...     ...             ...          ...        ...  \n",
       "196833  13,250   650.0  Semi-Furnished  1 bathrooms       Pune  \n",
       "196834   7,000   350.0     Unfurnished  1 bathrooms       Pune  \n",
       "196835   8,500   389.0  Semi-Furnished  1 bathrooms       Pune  \n",
       "196836  16,500   670.0  Semi-Furnished  2 bathrooms       Pune  \n",
       "196837  12,000   800.0     Unfurnished  2 bathrooms       Pune  \n",
       "\n",
       "[196838 rows x 10 columns]"
      ]
     },
     "execution_count": 128,
     "metadata": {},
     "output_type": "execute_result"
    }
   ],
   "source": [
    "data = data.reset_index().drop('index',axis=1)\n",
    "data"
   ]
  },
  {
   "cell_type": "code",
   "execution_count": 129,
   "id": "2ed33025",
   "metadata": {},
   "outputs": [
    {
     "name": "stdout",
     "output_type": "stream",
     "text": [
      "Features: seller_type, bedroom, layout_type, property_type, locality, price, area, furnish_type, bathroom, city\n",
      "Numero de filas: 196838\n",
      "Numero de Columnas: 10\n"
     ]
    }
   ],
   "source": [
    "print(f\"Features: {', '.join(data.columns)}\")\n",
    "print(f'Numero de filas: {data.shape[0]}')\n",
    "print(f'Numero de Columnas: {data.shape[1]}')"
   ]
  },
  {
   "cell_type": "code",
   "execution_count": 130,
   "id": "e084a7d0",
   "metadata": {},
   "outputs": [
    {
     "data": {
      "text/html": [
       "<div>\n",
       "<style scoped>\n",
       "    .dataframe tbody tr th:only-of-type {\n",
       "        vertical-align: middle;\n",
       "    }\n",
       "\n",
       "    .dataframe tbody tr th {\n",
       "        vertical-align: top;\n",
       "    }\n",
       "\n",
       "    .dataframe thead th {\n",
       "        text-align: right;\n",
       "    }\n",
       "</style>\n",
       "<table border=\"1\" class=\"dataframe\">\n",
       "  <thead>\n",
       "    <tr style=\"text-align: right;\">\n",
       "      <th></th>\n",
       "      <th>index</th>\n",
       "      <th>missing_value</th>\n",
       "      <th>feature_type</th>\n",
       "    </tr>\n",
       "  </thead>\n",
       "  <tbody>\n",
       "    <tr>\n",
       "      <th>0</th>\n",
       "      <td>city</td>\n",
       "      <td>0</td>\n",
       "      <td>object</td>\n",
       "    </tr>\n",
       "    <tr>\n",
       "      <th>1</th>\n",
       "      <td>bedroom</td>\n",
       "      <td>1061</td>\n",
       "      <td>float64</td>\n",
       "    </tr>\n",
       "    <tr>\n",
       "      <th>2</th>\n",
       "      <td>layout_type</td>\n",
       "      <td>1061</td>\n",
       "      <td>object</td>\n",
       "    </tr>\n",
       "    <tr>\n",
       "      <th>3</th>\n",
       "      <td>property_type</td>\n",
       "      <td>1061</td>\n",
       "      <td>object</td>\n",
       "    </tr>\n",
       "    <tr>\n",
       "      <th>4</th>\n",
       "      <td>price</td>\n",
       "      <td>1061</td>\n",
       "      <td>object</td>\n",
       "    </tr>\n",
       "    <tr>\n",
       "      <th>5</th>\n",
       "      <td>area</td>\n",
       "      <td>1061</td>\n",
       "      <td>float64</td>\n",
       "    </tr>\n",
       "    <tr>\n",
       "      <th>6</th>\n",
       "      <td>furnish_type</td>\n",
       "      <td>1061</td>\n",
       "      <td>object</td>\n",
       "    </tr>\n",
       "    <tr>\n",
       "      <th>7</th>\n",
       "      <td>locality</td>\n",
       "      <td>1062</td>\n",
       "      <td>object</td>\n",
       "    </tr>\n",
       "    <tr>\n",
       "      <th>8</th>\n",
       "      <td>seller_type</td>\n",
       "      <td>1064</td>\n",
       "      <td>object</td>\n",
       "    </tr>\n",
       "    <tr>\n",
       "      <th>9</th>\n",
       "      <td>bathroom</td>\n",
       "      <td>3358</td>\n",
       "      <td>object</td>\n",
       "    </tr>\n",
       "  </tbody>\n",
       "</table>\n",
       "</div>"
      ],
      "text/plain": [
       "           index  missing_value feature_type\n",
       "0           city              0       object\n",
       "1        bedroom           1061      float64\n",
       "2    layout_type           1061       object\n",
       "3  property_type           1061       object\n",
       "4          price           1061       object\n",
       "5           area           1061      float64\n",
       "6   furnish_type           1061       object\n",
       "7       locality           1062       object\n",
       "8    seller_type           1064       object\n",
       "9       bathroom           3358       object"
      ]
     },
     "execution_count": 130,
     "metadata": {},
     "output_type": "execute_result"
    }
   ],
   "source": [
    "df_dtypes = pd.merge(data.isnull().sum(axis = 0).sort_values().to_frame('missing_value').reset_index(),\n",
    "         data.dtypes.to_frame('feature_type').reset_index(),\n",
    "         on = 'index',\n",
    "         how = 'inner')\n",
    "df_dtypes"
   ]
  },
  {
   "cell_type": "code",
   "execution_count": 131,
   "id": "ad5a7470",
   "metadata": {},
   "outputs": [],
   "source": [
    "target = 'price'\n",
    "categorical_columns = ['city','layout_type','property_type','furnish_type','locality','seller_type','bathroom']\n",
    "continuos_columns = ['bedroom','area']"
   ]
  },
  {
   "cell_type": "markdown",
   "id": "a6b014ee",
   "metadata": {},
   "source": [
    "Eliminar las filas que tengan el target null"
   ]
  },
  {
   "cell_type": "code",
   "execution_count": 132,
   "id": "77b42015",
   "metadata": {},
   "outputs": [],
   "source": [
    "data = data.dropna(subset=[target])"
   ]
  },
  {
   "cell_type": "code",
   "execution_count": 133,
   "id": "d3375311",
   "metadata": {},
   "outputs": [
    {
     "data": {
      "text/plain": [
       "0"
      ]
     },
     "execution_count": 133,
     "metadata": {},
     "output_type": "execute_result"
    }
   ],
   "source": [
    "data[target].isnull().sum()"
   ]
  },
  {
   "cell_type": "markdown",
   "id": "395fdce2",
   "metadata": {},
   "source": [
    "La variable objetivo (Price) aparece como object y deberia ser float"
   ]
  },
  {
   "cell_type": "code",
   "execution_count": 134,
   "id": "124eb781",
   "metadata": {},
   "outputs": [
    {
     "name": "stderr",
     "output_type": "stream",
     "text": [
      "C:\\Users\\remoteUser\\AppData\\Roaming\\Python\\Python37\\site-packages\\ipykernel_launcher.py:1: SettingWithCopyWarning: \n",
      "A value is trying to be set on a copy of a slice from a DataFrame.\n",
      "Try using .loc[row_indexer,col_indexer] = value instead\n",
      "\n",
      "See the caveats in the documentation: https://pandas.pydata.org/pandas-docs/stable/user_guide/indexing.html#returning-a-view-versus-a-copy\n",
      "  \"\"\"Entry point for launching an IPython kernel.\n"
     ]
    }
   ],
   "source": [
    "data[target]= data[target].str.replace(',','.',regex=False).astype(float)"
   ]
  },
  {
   "cell_type": "markdown",
   "id": "12a9b117",
   "metadata": {},
   "source": [
    "### Analizar las distribuciones de cada columna"
   ]
  },
  {
   "cell_type": "code",
   "execution_count": 135,
   "id": "b7117577",
   "metadata": {
    "scrolled": false
   },
   "outputs": [
    {
     "data": {
      "text/plain": [
       "<Figure size 432x288 with 0 Axes>"
      ]
     },
     "metadata": {},
     "output_type": "display_data"
    },
    {
     "data": {
      "image/png": "[encoded data removed]",
      "text/plain": [
       "<Figure size 360x360 with 1 Axes>"
      ]
     },
     "metadata": {
      "needs_background": "light"
     },
     "output_type": "display_data"
    },
    {
     "data": {
      "text/plain": [
       "<Figure size 432x288 with 0 Axes>"
      ]
     },
     "metadata": {},
     "output_type": "display_data"
    },
    {
     "data": {
      "image/png": "[encoded data removed]",
      "text/plain": [
       "<Figure size 360x360 with 1 Axes>"
      ]
     },
     "metadata": {
      "needs_background": "light"
     },
     "output_type": "display_data"
    },
    {
     "data": {
      "image/png": "[encoded data removed]",
      "text/plain": [
       "<Figure size 432x288 with 1 Axes>"
      ]
     },
     "metadata": {
      "needs_background": "light"
     },
     "output_type": "display_data"
    },
    {
     "data": {
      "image/png": "[encoded data removed]",
      "text/plain": [
       "<Figure size 432x288 with 1 Axes>"
      ]
     },
     "metadata": {
      "needs_background": "light"
     },
     "output_type": "display_data"
    },
    {
     "data": {
      "image/png": "[encoded data removed]",
      "text/plain": [
       "<Figure size 432x288 with 1 Axes>"
      ]
     },
     "metadata": {
      "needs_background": "light"
     },
     "output_type": "display_data"
    },
    {
     "data": {
      "image/png": "[encoded data removed]",
      "text/plain": [
       "<Figure size 432x288 with 1 Axes>"
      ]
     },
     "metadata": {
      "needs_background": "light"
     },
     "output_type": "display_data"
    },
    {
     "data": {
      "image/png": "[encoded data removed]",
      "text/plain": [
       "<Figure size 432x288 with 1 Axes>"
      ]
     },
     "metadata": {
      "needs_background": "light"
     },
     "output_type": "display_data"
    },
    {
     "data": {
      "image/png": "[encoded data removed]",
      "text/plain": [
       "<Figure size 432x288 with 1 Axes>"
      ]
     },
     "metadata": {
      "needs_background": "light"
     },
     "output_type": "display_data"
    },
    {
     "data": {
      "image/png": "[encoded data removed]",
      "text/plain": [
       "<Figure size 432x288 with 1 Axes>"
      ]
     },
     "metadata": {
      "needs_background": "light"
     },
     "output_type": "display_data"
    }
   ],
   "source": [
    "for column in continuos_columns:\n",
    "    plt.figure()\n",
    "    sns.displot(x=column, data=data)\n",
    "    \n",
    "for column in categorical_columns:\n",
    "    plt.figure()\n",
    "    sns.histplot(x=column, data=data,discrete=True)"
   ]
  },
  {
   "cell_type": "code",
   "execution_count": 136,
   "id": "6b86a11e",
   "metadata": {},
   "outputs": [
    {
     "data": {
      "text/plain": [
       "2 bathrooms                 90046\n",
       "1 bathrooms                 54283\n",
       "3 bathrooms                 35452\n",
       "4 bathrooms                 10674\n",
       "5 bathrooms                  1930\n",
       "6 bathrooms                   381\n",
       "East facing                   169\n",
       "7 bathrooms                    80\n",
       "North facing                   66\n",
       "9 bathrooms                    55\n",
       "8 bathrooms                    52\n",
       "NorthEast facing               51\n",
       "10 bathrooms                   34\n",
       "West facing                    31\n",
       "Grfloor                        19\n",
       "NorthWest facing               17\n",
       "SouthWest facing               15\n",
       "1 of 4floor                    13\n",
       "SouthEast facing               10\n",
       "15 bathrooms                    8\n",
       "2 of 4floor                     8\n",
       "South facing                    6\n",
       "14 bathrooms                    6\n",
       "16 bathrooms                    6\n",
       "3 of 4floor                     5\n",
       "1 of 3floor                     5\n",
       "3 of 3floor                     5\n",
       "12 bathrooms                    5\n",
       "Family only                     4\n",
       "2 of 5floor                     4\n",
       "2 of 7floor                     3\n",
       "1 of 2floor                     3\n",
       "Gr of 2floor                    2\n",
       "11 of 17floor                   2\n",
       "6 of 7floor                     2\n",
       "10 of 16floor                   2\n",
       "7 of 12floor                    2\n",
       "availability immediately        2\n",
       "5 of 14floor                    2\n",
       "4 of 5floor                     2\n",
       "2 of 3floor                     2\n",
       "19 bathrooms                    2\n",
       "12 of 16floor                   1\n",
       "7 of 16floor                    1\n",
       "3 of 7floor                     1\n",
       "9 of 12floor                    1\n",
       "1 of 6floor                     1\n",
       "6 of 8floor                     1\n",
       "17 of 29floor                   1\n",
       "15 of 28floor                   1\n",
       "17 of 25floor                   1\n",
       "4 of 7floor                     1\n",
       "3 of 5floor                     1\n",
       "18 bathrooms                    1\n",
       "4 of 9floor                     1\n",
       "11 of 11floor                   1\n",
       "Name: bathroom, dtype: int64"
      ]
     },
     "execution_count": 136,
     "metadata": {},
     "output_type": "execute_result"
    }
   ],
   "source": [
    "data['bathroom'].value_counts()"
   ]
  },
  {
   "cell_type": "code",
   "execution_count": 137,
   "id": "097438d7",
   "metadata": {},
   "outputs": [
    {
     "data": {
      "text/plain": [
       "Thane West             4518\n",
       "Chembur                3665\n",
       "Andheri East           3549\n",
       "Bopal                  2941\n",
       "Kharghar               2618\n",
       "                       ... \n",
       "Selimpur Road             1\n",
       "M G ROAD Haridevpur       1\n",
       "Veerannapalya             1\n",
       "Chandra Layout            1\n",
       "Aundh Gaon                1\n",
       "Name: locality, Length: 4173, dtype: int64"
      ]
     },
     "execution_count": 137,
     "metadata": {},
     "output_type": "execute_result"
    }
   ],
   "source": [
    "data['locality'].value_counts()"
   ]
  },
  {
   "cell_type": "markdown",
   "id": "1e845876",
   "metadata": {},
   "source": [
    "<b>La localidad se puede encodear con catboost</b>\n",
    "\n",
    "<b>Para el caso de los baños hay que convertila en una variable continua</b>"
   ]
  },
  {
   "cell_type": "markdown",
   "id": "7e6d920b",
   "metadata": {},
   "source": [
    "### Convertir la columna bathroom"
   ]
  },
  {
   "cell_type": "code",
   "execution_count": 138,
   "id": "05c2beb7",
   "metadata": {},
   "outputs": [
    {
     "name": "stderr",
     "output_type": "stream",
     "text": [
      "C:\\Users\\remoteUser\\AppData\\Roaming\\Python\\Python37\\site-packages\\ipykernel_launcher.py:8: SettingWithCopyWarning: \n",
      "A value is trying to be set on a copy of a slice from a DataFrame.\n",
      "Try using .loc[row_indexer,col_indexer] = value instead\n",
      "\n",
      "See the caveats in the documentation: https://pandas.pydata.org/pandas-docs/stable/user_guide/indexing.html#returning-a-view-versus-a-copy\n",
      "  \n"
     ]
    }
   ],
   "source": [
    "#tomar los primeros dos caracteres, si se puede convertir a numerico entonces ese es el valor, sino devolver nan\n",
    "\n",
    "def convert_bathroom(value):\n",
    "    if str(value)[:2].strip().isdigit():\n",
    "        return int(value[:2].strip())\n",
    "    return np.nan\n",
    "\n",
    "data['bathroom'] = data['bathroom'].apply(convert_bathroom)"
   ]
  },
  {
   "cell_type": "code",
   "execution_count": 139,
   "id": "ef726c27",
   "metadata": {},
   "outputs": [
    {
     "data": {
      "text/plain": [
       "2.0     90063\n",
       "1.0     54305\n",
       "3.0     35464\n",
       "4.0     10678\n",
       "5.0      1932\n",
       "6.0       384\n",
       "7.0        83\n",
       "9.0        56\n",
       "8.0        52\n",
       "10.0       36\n",
       "15.0        9\n",
       "12.0        6\n",
       "16.0        6\n",
       "14.0        6\n",
       "11.0        3\n",
       "19.0        2\n",
       "17.0        2\n",
       "18.0        1\n",
       "Name: bathroom, dtype: int64"
      ]
     },
     "execution_count": 139,
     "metadata": {},
     "output_type": "execute_result"
    }
   ],
   "source": [
    "data['bathroom'].value_counts()"
   ]
  },
  {
   "cell_type": "code",
   "execution_count": 140,
   "id": "483bc6ef",
   "metadata": {},
   "outputs": [
    {
     "name": "stdout",
     "output_type": "stream",
     "text": [
      "Nulls: 2689\n"
     ]
    }
   ],
   "source": [
    "print(f'Nulls: {data[\"bathroom\"].isnull().sum()}')"
   ]
  },
  {
   "cell_type": "code",
   "execution_count": 141,
   "id": "8dea7a34",
   "metadata": {},
   "outputs": [
    {
     "data": {
      "text/plain": [
       "<seaborn.axisgrid.FacetGrid at 0x1d2493c4b48>"
      ]
     },
     "execution_count": 141,
     "metadata": {},
     "output_type": "execute_result"
    },
    {
     "data": {
      "image/png": "[encoded data removed]",
      "text/plain": [
       "<Figure size 360x360 with 1 Axes>"
      ]
     },
     "metadata": {
      "needs_background": "light"
     },
     "output_type": "display_data"
    }
   ],
   "source": [
    "sns.displot(x=\"bathroom\", data=data)"
   ]
  },
  {
   "cell_type": "markdown",
   "id": "d125e427",
   "metadata": {},
   "source": [
    "Como bathroom se convirtio en continua hay que sacarla de la lista de categoricas y ponerla en la lista de continuas"
   ]
  },
  {
   "cell_type": "code",
   "execution_count": 142,
   "id": "d9f9ef50",
   "metadata": {},
   "outputs": [],
   "source": [
    "categorical_columns = categorical_columns[:-1]\n",
    "continuos_columns.append('bathroom')"
   ]
  },
  {
   "cell_type": "markdown",
   "id": "20015f43",
   "metadata": {},
   "source": [
    "### Encodear las variables categoricas"
   ]
  },
  {
   "cell_type": "code",
   "execution_count": 143,
   "id": "5c63e175",
   "metadata": {},
   "outputs": [
    {
     "data": {
      "text/html": [
       "<div>\n",
       "<style scoped>\n",
       "    .dataframe tbody tr th:only-of-type {\n",
       "        vertical-align: middle;\n",
       "    }\n",
       "\n",
       "    .dataframe tbody tr th {\n",
       "        vertical-align: top;\n",
       "    }\n",
       "\n",
       "    .dataframe thead th {\n",
       "        text-align: right;\n",
       "    }\n",
       "</style>\n",
       "<table border=\"1\" class=\"dataframe\">\n",
       "  <thead>\n",
       "    <tr style=\"text-align: right;\">\n",
       "      <th></th>\n",
       "      <th>seller_type</th>\n",
       "      <th>bedroom</th>\n",
       "      <th>layout_type</th>\n",
       "      <th>property_type</th>\n",
       "      <th>locality</th>\n",
       "      <th>price</th>\n",
       "      <th>area</th>\n",
       "      <th>furnish_type</th>\n",
       "      <th>bathroom</th>\n",
       "      <th>city</th>\n",
       "    </tr>\n",
       "  </thead>\n",
       "  <tbody>\n",
       "    <tr>\n",
       "      <th>0</th>\n",
       "      <td>22.949720</td>\n",
       "      <td>2.0</td>\n",
       "      <td>22.949720</td>\n",
       "      <td>22.949720</td>\n",
       "      <td>22.949720</td>\n",
       "      <td>20.00</td>\n",
       "      <td>1450.0</td>\n",
       "      <td>22.949720</td>\n",
       "      <td>2.0</td>\n",
       "      <td>22.949720</td>\n",
       "    </tr>\n",
       "    <tr>\n",
       "      <th>1</th>\n",
       "      <td>21.474860</td>\n",
       "      <td>1.0</td>\n",
       "      <td>22.949720</td>\n",
       "      <td>22.949720</td>\n",
       "      <td>22.949720</td>\n",
       "      <td>7.35</td>\n",
       "      <td>210.0</td>\n",
       "      <td>22.949720</td>\n",
       "      <td>1.0</td>\n",
       "      <td>21.474860</td>\n",
       "    </tr>\n",
       "    <tr>\n",
       "      <th>2</th>\n",
       "      <td>16.766573</td>\n",
       "      <td>3.0</td>\n",
       "      <td>21.474860</td>\n",
       "      <td>21.474860</td>\n",
       "      <td>22.949720</td>\n",
       "      <td>22.00</td>\n",
       "      <td>1900.0</td>\n",
       "      <td>22.949720</td>\n",
       "      <td>3.0</td>\n",
       "      <td>16.766573</td>\n",
       "    </tr>\n",
       "    <tr>\n",
       "      <th>3</th>\n",
       "      <td>18.074930</td>\n",
       "      <td>2.0</td>\n",
       "      <td>21.649907</td>\n",
       "      <td>22.949720</td>\n",
       "      <td>22.949720</td>\n",
       "      <td>13.00</td>\n",
       "      <td>1285.0</td>\n",
       "      <td>15.149860</td>\n",
       "      <td>2.0</td>\n",
       "      <td>18.074930</td>\n",
       "    </tr>\n",
       "    <tr>\n",
       "      <th>4</th>\n",
       "      <td>17.059944</td>\n",
       "      <td>2.0</td>\n",
       "      <td>19.487430</td>\n",
       "      <td>17.974860</td>\n",
       "      <td>22.949720</td>\n",
       "      <td>18.00</td>\n",
       "      <td>1600.0</td>\n",
       "      <td>21.474860</td>\n",
       "      <td>2.0</td>\n",
       "      <td>17.059944</td>\n",
       "    </tr>\n",
       "    <tr>\n",
       "      <th>...</th>\n",
       "      <td>...</td>\n",
       "      <td>...</td>\n",
       "      <td>...</td>\n",
       "      <td>...</td>\n",
       "      <td>...</td>\n",
       "      <td>...</td>\n",
       "      <td>...</td>\n",
       "      <td>...</td>\n",
       "      <td>...</td>\n",
       "      <td>...</td>\n",
       "    </tr>\n",
       "    <tr>\n",
       "      <th>196833</th>\n",
       "      <td>15.722447</td>\n",
       "      <td>1.0</td>\n",
       "      <td>23.591491</td>\n",
       "      <td>25.366569</td>\n",
       "      <td>16.439383</td>\n",
       "      <td>13.25</td>\n",
       "      <td>650.0</td>\n",
       "      <td>23.440444</td>\n",
       "      <td>1.0</td>\n",
       "      <td>18.823169</td>\n",
       "    </tr>\n",
       "    <tr>\n",
       "      <th>196834</th>\n",
       "      <td>15.722384</td>\n",
       "      <td>1.0</td>\n",
       "      <td>10.762337</td>\n",
       "      <td>10.762337</td>\n",
       "      <td>19.219359</td>\n",
       "      <td>7.00</td>\n",
       "      <td>350.0</td>\n",
       "      <td>16.902091</td>\n",
       "      <td>1.0</td>\n",
       "      <td>18.822924</td>\n",
       "    </tr>\n",
       "    <tr>\n",
       "      <th>196835</th>\n",
       "      <td>15.722162</td>\n",
       "      <td>1.0</td>\n",
       "      <td>23.591435</td>\n",
       "      <td>25.366484</td>\n",
       "      <td>19.502942</td>\n",
       "      <td>8.50</td>\n",
       "      <td>389.0</td>\n",
       "      <td>23.440339</td>\n",
       "      <td>1.0</td>\n",
       "      <td>18.822406</td>\n",
       "    </tr>\n",
       "    <tr>\n",
       "      <th>196836</th>\n",
       "      <td>24.824102</td>\n",
       "      <td>1.0</td>\n",
       "      <td>23.591354</td>\n",
       "      <td>25.366365</td>\n",
       "      <td>19.098568</td>\n",
       "      <td>16.50</td>\n",
       "      <td>670.0</td>\n",
       "      <td>23.440185</td>\n",
       "      <td>2.0</td>\n",
       "      <td>18.821953</td>\n",
       "    </tr>\n",
       "    <tr>\n",
       "      <th>196837</th>\n",
       "      <td>24.824048</td>\n",
       "      <td>2.0</td>\n",
       "      <td>23.591316</td>\n",
       "      <td>25.366302</td>\n",
       "      <td>10.273398</td>\n",
       "      <td>12.00</td>\n",
       "      <td>800.0</td>\n",
       "      <td>16.901925</td>\n",
       "      <td>2.0</td>\n",
       "      <td>18.821851</td>\n",
       "    </tr>\n",
       "  </tbody>\n",
       "</table>\n",
       "<p>195777 rows × 10 columns</p>\n",
       "</div>"
      ],
      "text/plain": [
       "        seller_type  bedroom  layout_type  property_type   locality  price  \\\n",
       "0         22.949720      2.0    22.949720      22.949720  22.949720  20.00   \n",
       "1         21.474860      1.0    22.949720      22.949720  22.949720   7.35   \n",
       "2         16.766573      3.0    21.474860      21.474860  22.949720  22.00   \n",
       "3         18.074930      2.0    21.649907      22.949720  22.949720  13.00   \n",
       "4         17.059944      2.0    19.487430      17.974860  22.949720  18.00   \n",
       "...             ...      ...          ...            ...        ...    ...   \n",
       "196833    15.722447      1.0    23.591491      25.366569  16.439383  13.25   \n",
       "196834    15.722384      1.0    10.762337      10.762337  19.219359   7.00   \n",
       "196835    15.722162      1.0    23.591435      25.366484  19.502942   8.50   \n",
       "196836    24.824102      1.0    23.591354      25.366365  19.098568  16.50   \n",
       "196837    24.824048      2.0    23.591316      25.366302  10.273398  12.00   \n",
       "\n",
       "          area  furnish_type  bathroom       city  \n",
       "0       1450.0     22.949720       2.0  22.949720  \n",
       "1        210.0     22.949720       1.0  21.474860  \n",
       "2       1900.0     22.949720       3.0  16.766573  \n",
       "3       1285.0     15.149860       2.0  18.074930  \n",
       "4       1600.0     21.474860       2.0  17.059944  \n",
       "...        ...           ...       ...        ...  \n",
       "196833   650.0     23.440444       1.0  18.823169  \n",
       "196834   350.0     16.902091       1.0  18.822924  \n",
       "196835   389.0     23.440339       1.0  18.822406  \n",
       "196836   670.0     23.440185       2.0  18.821953  \n",
       "196837   800.0     16.901925       2.0  18.821851  \n",
       "\n",
       "[195777 rows x 10 columns]"
      ]
     },
     "execution_count": 143,
     "metadata": {},
     "output_type": "execute_result"
    }
   ],
   "source": [
    "catboost_encoder = ce.CatBoostEncoder(cols=categorical_columns)\n",
    "data_encoded = catboost_encoder.fit_transform(data,data[target])\n",
    "data_encoded"
   ]
  },
  {
   "cell_type": "markdown",
   "id": "5130632f",
   "metadata": {},
   "source": [
    "### Correlacion"
   ]
  },
  {
   "cell_type": "code",
   "execution_count": 144,
   "id": "976ea5ae",
   "metadata": {},
   "outputs": [
    {
     "data": {
      "text/plain": [
       "<AxesSubplot:>"
      ]
     },
     "execution_count": 144,
     "metadata": {},
     "output_type": "execute_result"
    },
    {
     "data": {
      "image/png": "[encoded data removed]",
      "text/plain": [
       "<Figure size 1440x1440 with 2 Axes>"
      ]
     },
     "metadata": {
      "needs_background": "light"
     },
     "output_type": "display_data"
    }
   ],
   "source": [
    "correlation_matrix = data_encoded.corr()\n",
    "plt.figure(figsize=(20,20))\n",
    "sns.heatmap(correlation_matrix, cbar=True, fmt='.1f', annot=True, cmap='Blues')"
   ]
  },
  {
   "cell_type": "markdown",
   "id": "24968be9",
   "metadata": {},
   "source": [
    "### Analisis de outliers"
   ]
  },
  {
   "cell_type": "code",
   "execution_count": 145,
   "id": "9f810157",
   "metadata": {
    "scrolled": false
   },
   "outputs": [
    {
     "data": {
      "image/png": "[encoded data removed]",
      "text/plain": [
       "<Figure size 432x288 with 1 Axes>"
      ]
     },
     "metadata": {
      "needs_background": "light"
     },
     "output_type": "display_data"
    },
    {
     "data": {
      "image/png": "[encoded data removed]",
      "text/plain": [
       "<Figure size 432x288 with 1 Axes>"
      ]
     },
     "metadata": {
      "needs_background": "light"
     },
     "output_type": "display_data"
    },
    {
     "data": {
      "image/png": "[encoded data removed]",
      "text/plain": [
       "<Figure size 432x288 with 1 Axes>"
      ]
     },
     "metadata": {
      "needs_background": "light"
     },
     "output_type": "display_data"
    },
    {
     "data": {
      "image/png": "[encoded data removed]",
      "text/plain": [
       "<Figure size 432x288 with 1 Axes>"
      ]
     },
     "metadata": {
      "needs_background": "light"
     },
     "output_type": "display_data"
    },
    {
     "data": {
      "image/png": "[encoded data removed]",
      "text/plain": [
       "<Figure size 432x288 with 1 Axes>"
      ]
     },
     "metadata": {
      "needs_background": "light"
     },
     "output_type": "display_data"
    },
    {
     "data": {
      "image/png": "[encoded data removed]",
      "text/plain": [
       "<Figure size 432x288 with 1 Axes>"
      ]
     },
     "metadata": {
      "needs_background": "light"
     },
     "output_type": "display_data"
    },
    {
     "data": {
      "image/png": "[encoded data removed]",
      "text/plain": [
       "<Figure size 432x288 with 1 Axes>"
      ]
     },
     "metadata": {
      "needs_background": "light"
     },
     "output_type": "display_data"
    },
    {
     "data": {
      "image/png": "[encoded data removed]",
      "text/plain": [
       "<Figure size 432x288 with 1 Axes>"
      ]
     },
     "metadata": {
      "needs_background": "light"
     },
     "output_type": "display_data"
    },
    {
     "data": {
      "image/png": "[encoded data removed]",
      "text/plain": [
       "<Figure size 432x288 with 1 Axes>"
      ]
     },
     "metadata": {
      "needs_background": "light"
     },
     "output_type": "display_data"
    },
    {
     "data": {
      "image/png": "[encoded data removed]",
      "text/plain": [
       "<Figure size 432x288 with 1 Axes>"
      ]
     },
     "metadata": {
      "needs_background": "light"
     },
     "output_type": "display_data"
    }
   ],
   "source": [
    "for column in data_encoded:\n",
    "    plt.figure()\n",
    "    sns.boxplot(x=column, data=data_encoded)"
   ]
  },
  {
   "cell_type": "markdown",
   "id": "6d22a8c5",
   "metadata": {},
   "source": [
    "### Analisis de dimensionalidad"
   ]
  },
  {
   "cell_type": "code",
   "execution_count": 146,
   "id": "a6bf2fc5",
   "metadata": {},
   "outputs": [],
   "source": [
    "X = data_encoded.drop(target,axis=1)\n",
    "y = data_encoded[target]"
   ]
  },
  {
   "cell_type": "code",
   "execution_count": 147,
   "id": "06c78880",
   "metadata": {
    "scrolled": true
   },
   "outputs": [
    {
     "data": {
      "text/plain": [
       "StandardScaler()"
      ]
     },
     "execution_count": 147,
     "metadata": {},
     "output_type": "execute_result"
    }
   ],
   "source": [
    "imputer = SimpleImputer(strategy='median')\n",
    "X = pd.DataFrame(imputer.fit_transform(X), columns=X.columns, index=X.index)\n",
    "scaler = StandardScaler()\n",
    "scaler.fit(X)"
   ]
  },
  {
   "cell_type": "code",
   "execution_count": 148,
   "id": "050e5e22",
   "metadata": {},
   "outputs": [],
   "source": [
    "X_train, X_test, y_train, y_test = train_test_split(X, y, test_size=0.2, random_state=123)\n",
    "X_train = pd.DataFrame(scaler.transform(X_train), columns=X_train.columns, index=X_train.index)\n",
    "X_test = pd.DataFrame(scaler.transform(X_test), columns=X_test.columns, index=X_test.index)"
   ]
  },
  {
   "cell_type": "code",
   "execution_count": 149,
   "id": "edf6a688",
   "metadata": {},
   "outputs": [
    {
     "data": {
      "text/plain": [
       "SelectFromModel(estimator=Ridge(), threshold=0.009)"
      ]
     },
     "execution_count": 149,
     "metadata": {},
     "output_type": "execute_result"
    }
   ],
   "source": [
    "sel_ridge = SelectFromModel(Ridge(), threshold = 0.009)\n",
    "sel_ridge.fit(X_train, y_train)"
   ]
  },
  {
   "cell_type": "code",
   "execution_count": 150,
   "id": "fb94510d",
   "metadata": {},
   "outputs": [
    {
     "data": {
      "image/png": "[encoded data removed]",
      "text/plain": [
       "<Figure size 1152x276.48 with 1 Axes>"
      ]
     },
     "metadata": {
      "needs_background": "light"
     },
     "output_type": "display_data"
    }
   ],
   "source": [
    "df_coeficientes = pd.DataFrame(\n",
    "    {'predictor': X_train.columns,\n",
    "     'coef': sel_ridge.estimator_.coef_.flatten()}\n",
    ")\n",
    "\n",
    "fig, ax = plt.subplots(figsize=(16, 3.84))\n",
    "ax.stem(df_coeficientes.predictor, df_coeficientes.coef, markerfmt=' ')\n",
    "plt.xticks(rotation=90, ha='right', size=10)\n",
    "ax.set_xlabel('variable')\n",
    "ax.set_ylabel('coeficientes')\n",
    "ax.set_title('Coeficientes del modelo ridge');"
   ]
  },
  {
   "cell_type": "code",
   "execution_count": 151,
   "id": "5cd43835",
   "metadata": {},
   "outputs": [
    {
     "name": "stdout",
     "output_type": "stream",
     "text": [
      "total features: 9\n",
      "selected features: 9\n"
     ]
    }
   ],
   "source": [
    "selected_features = X_train.columns[sel_ridge.get_support()]\n",
    "print('total features: {}'.format((X_train.shape[1])))\n",
    "print('selected features: {}'.format(len(selected_features)))"
   ]
  },
  {
   "cell_type": "markdown",
   "id": "50795142",
   "metadata": {},
   "source": [
    "### PCA"
   ]
  },
  {
   "cell_type": "code",
   "execution_count": 153,
   "id": "15b3eb41",
   "metadata": {},
   "outputs": [],
   "source": [
    "pca = PCA(n_components='mle')\n",
    "\n",
    "pca.fit(X_train[selected_features])\n",
    "X_train_pca = pca.transform(X_train[selected_features])\n",
    "X_test_pca = pca.transform(X_test[selected_features])\n",
    "X_train_pca = pd.DataFrame(X_train_pca)\n",
    "X_test_pca = pd.DataFrame(X_test_pca)\n",
    "X_train_pca.columns = ['PCA_'+str(i) for i in X_train_pca.columns]\n",
    "X_test_pca.columns = ['PCA_'+str(i) for i in X_test_pca.columns]"
   ]
  },
  {
   "cell_type": "code",
   "execution_count": 154,
   "id": "55780a46",
   "metadata": {},
   "outputs": [
    {
     "data": {
      "image/png": "[encoded data removed]",
      "text/plain": [
       "<Figure size 960x480 with 1 Axes>"
      ]
     },
     "metadata": {
      "needs_background": "light"
     },
     "output_type": "display_data"
    }
   ],
   "source": [
    "exp_var_pca = pca.explained_variance_ratio_\n",
    "\n",
    "cum_sum_eigenvalues = np.cumsum(exp_var_pca)\n",
    "\n",
    "threshold = 0.75\n",
    "plt.figure(figsize=(12, 6), dpi=80)\n",
    "plt.bar(range(0,len(exp_var_pca)), exp_var_pca, alpha=0.5, align='center', label='Individual explained variance')\n",
    "plt.step(range(0,len(cum_sum_eigenvalues)), cum_sum_eigenvalues, where='mid',label='Cumulative explained variance')\n",
    "plt.axhline(y=threshold, color='r', linestyle='-')\n",
    "\n",
    "plt.ylabel('Explained variance ratio')\n",
    "plt.xlabel('Principal component index')\n",
    "plt.legend(loc='best')\n",
    "plt.tight_layout()\n",
    "plt.show()"
   ]
  },
  {
   "cell_type": "code",
   "execution_count": 155,
   "id": "1ab70e6a",
   "metadata": {},
   "outputs": [
    {
     "name": "stdout",
     "output_type": "stream",
     "text": [
      "Numero de features: 8\n"
     ]
    }
   ],
   "source": [
    "print(f'Numero de features: {X_train_pca.shape[1]}')"
   ]
  },
  {
   "cell_type": "markdown",
   "id": "17e8a555",
   "metadata": {},
   "source": [
    "#### Probar un modelo de regresion con y sin PCA"
   ]
  },
  {
   "cell_type": "code",
   "execution_count": 156,
   "id": "8f00163d",
   "metadata": {},
   "outputs": [
    {
     "data": {
      "text/plain": [
       "LinearRegression()"
      ]
     },
     "execution_count": 156,
     "metadata": {},
     "output_type": "execute_result"
    }
   ],
   "source": [
    "reg_pca = LinearRegression()\n",
    "reg_pca.fit(X_train_pca,y_train)"
   ]
  },
  {
   "cell_type": "code",
   "execution_count": 163,
   "id": "25a755e6",
   "metadata": {},
   "outputs": [
    {
     "data": {
      "text/plain": [
       "0.6018514941124854"
      ]
     },
     "execution_count": 163,
     "metadata": {},
     "output_type": "execute_result"
    }
   ],
   "source": [
    "metrics.mean_absolute_percentage_error(reg_pca.predict(X_test_pca),y_test)"
   ]
  },
  {
   "cell_type": "code",
   "execution_count": 160,
   "id": "041c65a3",
   "metadata": {},
   "outputs": [
    {
     "data": {
      "text/plain": [
       "LinearRegression()"
      ]
     },
     "execution_count": 160,
     "metadata": {},
     "output_type": "execute_result"
    }
   ],
   "source": [
    "reg = LinearRegression()\n",
    "reg.fit(X_train,y_train)"
   ]
  },
  {
   "cell_type": "code",
   "execution_count": 162,
   "id": "335e6f69",
   "metadata": {},
   "outputs": [
    {
     "data": {
      "text/plain": [
       "0.5996403263306378"
      ]
     },
     "execution_count": 162,
     "metadata": {},
     "output_type": "execute_result"
    }
   ],
   "source": [
    "metrics.mean_absolute_percentage_error(reg.predict(X_test),y_test)"
   ]
  },
  {
   "cell_type": "markdown",
   "id": "acf06bad",
   "metadata": {},
   "source": [
    "El modelo sin PCA tiene un error menor"
   ]
  },
  {
   "cell_type": "markdown",
   "id": "24f8892f",
   "metadata": {},
   "source": [
    "## exportar dataset"
   ]
  },
  {
   "cell_type": "code",
   "execution_count": 164,
   "id": "b12aabfb",
   "metadata": {},
   "outputs": [],
   "source": [
    "data.to_csv('./data/data.csv')"
   ]
  },
  {
   "cell_type": "code",
   "execution_count": null,
   "id": "3da157fa",
   "metadata": {},
   "outputs": [],
   "source": []
  }
 ],
 "metadata": {
  "kernelspec": {
   "display_name": "machine_learning_base",
   "language": "python",
   "name": "machine_learning_base"
  },
  "language_info": {
   "codemirror_mode": {
    "name": "ipython",
    "version": 3
   },
   "file_extension": ".py",
   "mimetype": "text/x-python",
   "name": "python",
   "nbconvert_exporter": "python",
   "pygments_lexer": "ipython3",
   "version": "3.7.11"
  }
 },
 "nbformat": 4,
 "nbformat_minor": 5
}
